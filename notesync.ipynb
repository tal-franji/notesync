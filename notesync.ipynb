{
 "cells": [
  {
   "cell_type": "code",
   "execution_count": null,
   "metadata": {},
   "outputs": [],
   "source": [
    "from IPython.display import HTML\n",
    "laptop_port = 8000\n",
    "laptop_server = \"http://localhost:%d\" % laptop_port\n",
    "params = dict(server=laptop_server)\n",
    "input_form = \"\"\"\n",
    "<div style=\"background-color:gainsboro; border:solid black; width:300px; padding:20px;\">\n",
    "<button onclick=\"connect_laptop()\">Connect Laptop</button>\n",
    "<br/>\n",
    "<iframe src=\"%(server)s/iframe.html\" height=\"30\" width=\"100\"></iframe>\n",
    "</div>\n",
    "\"\"\" % params\n",
    "\n",
    "javascript = \"\"\"\n",
    "<script type=\"text/Javascript\">\n",
    "    var _z_child_origin = \"%(server)s/\"\n",
    "    var _z_child = window.frames[0]\n",
    "    var _z_kernel = IPython.notebook.kernel;\n",
    "    var _z_state = \"INI\"\n",
    "    if (typeof _z_rerun_guard === 'undefined') {\n",
    "    _z_rerun_guard = 1\n",
    "    \n",
    "    function _z_timer() {\n",
    "        _z_child.postMessage({state: _z_state}, _z_child_origin);\n",
    "    \n",
    "    }\n",
    "    function connect_laptop(){\n",
    "        window.setInterval(_z_timer, 1000)\n",
    "    }\n",
    "\n",
    "    function _z_receiveMessage(event) {\n",
    "        console.log(\"PARENT>>> \", event.data)\n",
    "        if (event.data !== undefined && event.data[\"command\"] !== undefined) {\n",
    "            command = event.data[\"command\"]\n",
    "            console.log(\"Executing Command: \" + command);\n",
    "            _z_kernel.execute(command);\n",
    "        }\n",
    "    }\n",
    "    window.addEventListener(\"message\", _z_receiveMessage, false);\n",
    "    }\n",
    "</script>\n",
    "\"\"\" % params\n",
    "\n",
    "HTML(input_form + javascript)"
   ]
  },
  {
   "cell_type": "code",
   "execution_count": null,
   "metadata": {},
   "outputs": [],
   "source": [
    "E\n"
   ]
  },
  {
   "cell_type": "code",
   "execution_count": null,
   "metadata": {},
   "outputs": [],
   "source": []
  }
 ],
 "metadata": {
  "kernelspec": {
   "display_name": "Python 3",
   "language": "python",
   "name": "python3"
  },
  "language_info": {
   "codemirror_mode": {
    "name": "ipython",
    "version": 3
   },
   "file_extension": ".py",
   "mimetype": "text/x-python",
   "name": "python",
   "nbconvert_exporter": "python",
   "pygments_lexer": "ipython3",
   "version": "3.7.1"
  }
 },
 "nbformat": 4,
 "nbformat_minor": 2
}
