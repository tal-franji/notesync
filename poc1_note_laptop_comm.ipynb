{
 "cells": [
  {
   "cell_type": "code",
   "execution_count": 67,
   "metadata": {},
   "outputs": [
    {
     "data": {
      "text/html": [
       "\n",
       "<div style=\"background-color:gainsboro; border:solid black; width:300px; padding:20px;\">\n",
       "<button onclick=\"set_value()\">Set Value</button>\n",
       "<br/>\n",
       "<iframe src=\"http://localhost:8000/iframe.html\" height=\"30\" width=\"100\"></iframe>\n",
       "</div>\n",
       "\n",
       "<script type=\"text/Javascript\">\n",
       "    child_origin = \"http://localhost:8000/\"\n",
       "    var child = window.frames[0]\n",
       "    var kernel = IPython.notebook.kernel;\n",
       "    \n",
       "    function set_value(){\n",
       "        child.postMessage(\"hello there!\", child_origin);\n",
       "    }\n",
       "\n",
       "    function receiveMessage(event) {\n",
       "        console.log(\"PARENT>>> \", event.data)\n",
       "        command = event.data[\"command\"]\n",
       "        if (command) {\n",
       "          console.log(\"Executing Command: \" + command);\n",
       "          kernel.execute(command);\n",
       "        }\n",
       "    }\n",
       "    \n",
       "    window.removeEventListener(\"message\", receiveMessage, false);\n",
       "    window.addEventListener(\"message\", receiveMessage, false);\n",
       "</script>\n"
      ],
      "text/plain": [
       "<IPython.core.display.HTML object>"
      ]
     },
     "execution_count": 67,
     "metadata": {},
     "output_type": "execute_result"
    }
   ],
   "source": [
    "from IPython.display import HTML\n",
    "input_form = \"\"\"\n",
    "<div style=\"background-color:gainsboro; border:solid black; width:300px; padding:20px;\">\n",
    "<button onclick=\"set_value()\">Set Value</button>\n",
    "<br/>\n",
    "<iframe src=\"http://localhost:%d/iframe.html\" height=\"30\" width=\"100\"></iframe>\n",
    "</div>\n",
    "\"\"\" % 8000\n",
    "\n",
    "javascript = \"\"\"\n",
    "<script type=\"text/Javascript\">\n",
    "    child_origin = \"http://localhost:8000/\"\n",
    "    var child = window.frames[0]\n",
    "    var kernel = IPython.notebook.kernel;\n",
    "    \n",
    "    function set_value(){\n",
    "        child.postMessage(\"hello there!\", child_origin);\n",
    "    }\n",
    "\n",
    "    function receiveMessage(event) {\n",
    "        console.log(\"PARENT>>> \", event.data)\n",
    "        command = event.data[\"command\"]\n",
    "        if (command) {\n",
    "          console.log(\"Executing Command: \" + command);\n",
    "          kernel.execute(command);\n",
    "        }\n",
    "    }\n",
    "    \n",
    "    window.removeEventListener(\"message\", receiveMessage, false);\n",
    "    window.addEventListener(\"message\", receiveMessage, false);\n",
    "</script>\n",
    "\"\"\"\n",
    "\n",
    "HTML(input_form + javascript)"
   ]
  },
  {
   "cell_type": "code",
   "execution_count": 68,
   "metadata": {},
   "outputs": [
    {
     "data": {
      "text/plain": [
       "'hiiiii'"
      ]
     },
     "execution_count": 68,
     "metadata": {},
     "output_type": "execute_result"
    }
   ],
   "source": [
    "server"
   ]
  },
  {
   "cell_type": "code",
   "execution_count": null,
   "metadata": {},
   "outputs": [],
   "source": []
  }
 ],
 "metadata": {
  "kernelspec": {
   "display_name": "Python 3",
   "language": "python",
   "name": "python3"
  },
  "language_info": {
   "codemirror_mode": {
    "name": "ipython",
    "version": 3
   },
   "file_extension": ".py",
   "mimetype": "text/x-python",
   "name": "python",
   "nbconvert_exporter": "python",
   "pygments_lexer": "ipython3",
   "version": "3.7.1"
  }
 },
 "nbformat": 4,
 "nbformat_minor": 2
}
